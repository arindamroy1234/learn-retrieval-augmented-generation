{
 "cells": [
  {
   "cell_type": "code",
   "execution_count": null,
   "id": "659d9ca0-87ea-404f-924f-19d66323d4ff",
   "metadata": {},
   "outputs": [],
   "source": []
  },
  {
   "cell_type": "raw",
   "id": "b3b1403b-59bb-4a46-946a-05393977016c",
   "metadata": {
    "tags": []
   },
   "source": [
    "!pip install nltk"
   ]
  },
  {
   "cell_type": "code",
   "execution_count": null,
   "id": "5b4f5d4c-28b8-4978-8ef3-d4d86222da43",
   "metadata": {},
   "outputs": [],
   "source": []
  },
  {
   "cell_type": "code",
   "execution_count": 3,
   "id": "d824affe-a5ad-40e7-944c-8418dae5990f",
   "metadata": {
    "tags": []
   },
   "outputs": [],
   "source": [
    "paragraph=\"\"\"\n",
    "Barack Hussein Obama II[a] (born August 4, 1961) is an American politician who served as the 44th president of the United States from 2009 to 2017. A member of the Democratic Party, he was the first African-American president in U.S. history. Obama previously served as a U.S. senator representing Illinois from 2005 to 2008 and as an Illinois state senator from 1997 to 2004.\n",
    "\n",
    "Obama was born in Honolulu, Hawaii. He graduated from Columbia University in 1983 with a Bachelor of Arts degree in political science and later worked as a community organizer in Chicago. In 1988, Obama enrolled in Harvard Law School, where he was the first black president of the Harvard Law Review. He became a civil rights attorney and an academic, teaching constitutional law at the University of Chicago Law School from 1992 to 2004. In 1996, Obama was elected to represent the 13th district in the Illinois Senate, a position he held until 2004, when he successfully ran for the U.S. Senate. In the 2008 presidential election, after a close primary campaign against Hillary Clinton, he was nominated by the Democratic Party for president. Obama selected Joe Biden as his running mate and defeated Republican nominee John McCain.\n",
    "\"\"\""
   ]
  },
  {
   "cell_type": "code",
   "execution_count": 4,
   "id": "7517b2da-d147-4e1b-bf25-64616f6790d8",
   "metadata": {
    "tags": []
   },
   "outputs": [
    {
     "data": {
      "text/plain": [
       "'\\nBarack Hussein Obama II[a] (born August 4, 1961) is an American politician who served as the 44th president of the United States from 2009 to 2017. A member of the Democratic Party, he was the first African-American president in U.S. history. Obama previously served as a U.S. senator representing Illinois from 2005 to 2008 and as an Illinois state senator from 1997 to 2004.\\n\\nObama was born in Honolulu, Hawaii. He graduated from Columbia University in 1983 with a Bachelor of Arts degree in political science and later worked as a community organizer in Chicago. In 1988, Obama enrolled in Harvard Law School, where he was the first black president of the Harvard Law Review. He became a civil rights attorney and an academic, teaching constitutional law at the University of Chicago Law School from 1992 to 2004. In 1996, Obama was elected to represent the 13th district in the Illinois Senate, a position he held until 2004, when he successfully ran for the U.S. Senate. In the 2008 presidential election, after a close primary campaign against Hillary Clinton, he was nominated by the Democratic Party for president. Obama selected Joe Biden as his running mate and defeated Republican nominee John McCain.\\n'"
      ]
     },
     "execution_count": 4,
     "metadata": {},
     "output_type": "execute_result"
    }
   ],
   "source": [
    "paragraph"
   ]
  },
  {
   "cell_type": "code",
   "execution_count": 5,
   "id": "ff1d5a02-0bda-463b-a648-99572727669a",
   "metadata": {
    "tags": []
   },
   "outputs": [],
   "source": [
    "import nltk"
   ]
  },
  {
   "cell_type": "code",
   "execution_count": 6,
   "id": "888f2586-da7e-4764-99c6-664cdde4911e",
   "metadata": {
    "tags": []
   },
   "outputs": [],
   "source": [
    "from nltk.stem import PorterStemmer\n",
    "from nltk.corpus import stopwords"
   ]
  },
  {
   "cell_type": "code",
   "execution_count": 11,
   "id": "dcc75c18-55d3-4ade-9d78-d6b737a38774",
   "metadata": {
    "tags": []
   },
   "outputs": [
    {
     "name": "stdout",
     "output_type": "stream",
     "text": [
      "['\\nBarack Hussein Obama II[a] (born August 4, 1961) is an American politician who served as the 44th president of the United States from 2009 to 2017.', 'A member of the Democratic Party, he was the first African-American president in U.S. history.', 'Obama previously served as a U.S. senator representing Illinois from 2005 to 2008 and as an Illinois state senator from 1997 to 2004.', 'Obama was born in Honolulu, Hawaii.', 'He graduated from Columbia University in 1983 with a Bachelor of Arts degree in political science and later worked as a community organizer in Chicago.', 'In 1988, Obama enrolled in Harvard Law School, where he was the first black president of the Harvard Law Review.', 'He became a civil rights attorney and an academic, teaching constitutional law at the University of Chicago Law School from 1992 to 2004.', 'In 1996, Obama was elected to represent the 13th district in the Illinois Senate, a position he held until 2004, when he successfully ran for the U.S. Senate.', 'In the 2008 presidential election, after a close primary campaign against Hillary Clinton, he was nominated by the Democratic Party for president.', 'Obama selected Joe Biden as his running mate and defeated Republican nominee John McCain.']\n"
     ]
    }
   ],
   "source": [
    "print(sentences)"
   ]
  },
  {
   "cell_type": "code",
   "execution_count": 13,
   "id": "6a7e3742-6955-4b28-8700-57850bc99bb2",
   "metadata": {
    "tags": []
   },
   "outputs": [
    {
     "data": {
      "text/plain": [
       "['\\nBarack Hussein Obama II[a] (born August 4, 1961) is an American politician who served as the 44th president of the United States from 2009 to 2017.',\n",
       " 'A member of the Democratic Party, he was the first African-American president in U.S. history.',\n",
       " 'Obama previously served as a U.S. senator representing Illinois from 2005 to 2008 and as an Illinois state senator from 1997 to 2004.']"
      ]
     },
     "execution_count": 13,
     "metadata": {},
     "output_type": "execute_result"
    }
   ],
   "source": [
    "sentences[0:3]"
   ]
  },
  {
   "cell_type": "code",
   "execution_count": 14,
   "id": "881580ed-85d2-469b-9dfe-739bc5a3beb7",
   "metadata": {
    "tags": []
   },
   "outputs": [],
   "source": [
    "stemmer=PorterStemmer()"
   ]
  },
  {
   "cell_type": "code",
   "execution_count": 18,
   "id": "a3749255-4624-4d6a-872a-d98016a181f7",
   "metadata": {
    "tags": []
   },
   "outputs": [
    {
     "data": {
      "text/plain": [
       "'histori'"
      ]
     },
     "execution_count": 18,
     "metadata": {},
     "output_type": "execute_result"
    }
   ],
   "source": [
    "stemmer.stem('history')"
   ]
  },
  {
   "cell_type": "code",
   "execution_count": 20,
   "id": "08887e25-9a0d-41e5-8f1d-00595e4e274c",
   "metadata": {
    "tags": []
   },
   "outputs": [],
   "source": [
    "from nltk.stem import WordNetLemmatizer"
   ]
  },
  {
   "cell_type": "code",
   "execution_count": 35,
   "id": "1f4e27c7-a056-4bc8-bb5d-2b53561148ad",
   "metadata": {
    "tags": []
   },
   "outputs": [
    {
     "name": "stderr",
     "output_type": "stream",
     "text": [
      "[nltk_data] Downloading package wordnet to /home/ec2-user/nltk_data...\n",
      "[nltk_data]   Package wordnet is already up-to-date!\n",
      "[nltk_data] Downloading package stopwords to\n",
      "[nltk_data]     /home/ec2-user/nltk_data...\n",
      "[nltk_data]   Unzipping corpora/stopwords.zip.\n"
     ]
    },
    {
     "data": {
      "text/plain": [
       "True"
      ]
     },
     "execution_count": 35,
     "metadata": {},
     "output_type": "execute_result"
    }
   ],
   "source": [
    "lemmatizer=WordNetLemmatizer()\n",
    "nltk.download('wordnet')\n",
    "nltk.download('stopwords')"
   ]
  },
  {
   "cell_type": "code",
   "execution_count": 27,
   "id": "8bc9d9d2-3bc0-48fc-99d9-b2ff69f575c6",
   "metadata": {
    "tags": []
   },
   "outputs": [
    {
     "data": {
      "text/plain": [
       "'go'"
      ]
     },
     "execution_count": 27,
     "metadata": {},
     "output_type": "execute_result"
    }
   ],
   "source": [
    "lemmatizer.lemmatize('goes')"
   ]
  },
  {
   "cell_type": "code",
   "execution_count": 30,
   "id": "4ac5ed37-d217-49d7-b4f8-aa896e821dbf",
   "metadata": {
    "tags": []
   },
   "outputs": [],
   "source": [
    "import re\n",
    "corpus=[]\n",
    "for i in range(len(sentences)):\n",
    "    review=re.sub('[^a-zA-Z]',' ',sentences[i])\n",
    "    review=review.lower()\n",
    "    review=review.split()\n",
    "    corpus.append(review)"
   ]
  },
  {
   "cell_type": "code",
   "execution_count": 31,
   "id": "598fae75-a6b3-4aed-9cfc-0c23c8efff46",
   "metadata": {
    "jupyter": {
     "source_hidden": true
    },
    "tags": []
   },
   "outputs": [
    {
     "name": "stdout",
     "output_type": "stream",
     "text": [
      "['obama', 'selected', 'joe', 'biden', 'as', 'his', 'running', 'mate', 'and', 'defeated', 'republican', 'nominee', 'john', 'mccain']\n"
     ]
    }
   ],
   "source": [
    "print(review)"
   ]
  },
  {
   "cell_type": "code",
   "execution_count": 40,
   "id": "1138f1c6-a918-40bd-9e00-91f9c5477bc3",
   "metadata": {
    "tags": []
   },
   "outputs": [
    {
     "data": {
      "text/plain": [
       "['i',\n",
       " 'me',\n",
       " 'my',\n",
       " 'myself',\n",
       " 'we',\n",
       " 'our',\n",
       " 'ours',\n",
       " 'ourselves',\n",
       " 'you',\n",
       " \"you're\",\n",
       " \"you've\",\n",
       " \"you'll\",\n",
       " \"you'd\",\n",
       " 'your',\n",
       " 'yours',\n",
       " 'yourself',\n",
       " 'yourselves',\n",
       " 'he',\n",
       " 'him',\n",
       " 'his',\n",
       " 'himself',\n",
       " 'she',\n",
       " \"she's\",\n",
       " 'her',\n",
       " 'hers',\n",
       " 'herself',\n",
       " 'it',\n",
       " \"it's\",\n",
       " 'its',\n",
       " 'itself',\n",
       " 'they',\n",
       " 'them',\n",
       " 'their',\n",
       " 'theirs',\n",
       " 'themselves',\n",
       " 'what',\n",
       " 'which',\n",
       " 'who',\n",
       " 'whom',\n",
       " 'this',\n",
       " 'that',\n",
       " \"that'll\",\n",
       " 'these',\n",
       " 'those',\n",
       " 'am',\n",
       " 'is',\n",
       " 'are',\n",
       " 'was',\n",
       " 'were',\n",
       " 'be',\n",
       " 'been',\n",
       " 'being',\n",
       " 'have',\n",
       " 'has',\n",
       " 'had',\n",
       " 'having',\n",
       " 'do',\n",
       " 'does',\n",
       " 'did',\n",
       " 'doing',\n",
       " 'a',\n",
       " 'an',\n",
       " 'the',\n",
       " 'and',\n",
       " 'but',\n",
       " 'if',\n",
       " 'or',\n",
       " 'because',\n",
       " 'as',\n",
       " 'until',\n",
       " 'while',\n",
       " 'of',\n",
       " 'at',\n",
       " 'by',\n",
       " 'for',\n",
       " 'with',\n",
       " 'about',\n",
       " 'against',\n",
       " 'between',\n",
       " 'into',\n",
       " 'through',\n",
       " 'during',\n",
       " 'before',\n",
       " 'after',\n",
       " 'above',\n",
       " 'below',\n",
       " 'to',\n",
       " 'from',\n",
       " 'up',\n",
       " 'down',\n",
       " 'in',\n",
       " 'out',\n",
       " 'on',\n",
       " 'off',\n",
       " 'over',\n",
       " 'under',\n",
       " 'again',\n",
       " 'further',\n",
       " 'then',\n",
       " 'once',\n",
       " 'here',\n",
       " 'there',\n",
       " 'when',\n",
       " 'where',\n",
       " 'why',\n",
       " 'how',\n",
       " 'all',\n",
       " 'any',\n",
       " 'both',\n",
       " 'each',\n",
       " 'few',\n",
       " 'more',\n",
       " 'most',\n",
       " 'other',\n",
       " 'some',\n",
       " 'such',\n",
       " 'no',\n",
       " 'nor',\n",
       " 'not',\n",
       " 'only',\n",
       " 'own',\n",
       " 'same',\n",
       " 'so',\n",
       " 'than',\n",
       " 'too',\n",
       " 'very',\n",
       " 's',\n",
       " 't',\n",
       " 'can',\n",
       " 'will',\n",
       " 'just',\n",
       " 'don',\n",
       " \"don't\",\n",
       " 'should',\n",
       " \"should've\",\n",
       " 'now',\n",
       " 'd',\n",
       " 'll',\n",
       " 'm',\n",
       " 'o',\n",
       " 're',\n",
       " 've',\n",
       " 'y',\n",
       " 'ain',\n",
       " 'aren',\n",
       " \"aren't\",\n",
       " 'couldn',\n",
       " \"couldn't\",\n",
       " 'didn',\n",
       " \"didn't\",\n",
       " 'doesn',\n",
       " \"doesn't\",\n",
       " 'hadn',\n",
       " \"hadn't\",\n",
       " 'hasn',\n",
       " \"hasn't\",\n",
       " 'haven',\n",
       " \"haven't\",\n",
       " 'isn',\n",
       " \"isn't\",\n",
       " 'ma',\n",
       " 'mightn',\n",
       " \"mightn't\",\n",
       " 'mustn',\n",
       " \"mustn't\",\n",
       " 'needn',\n",
       " \"needn't\",\n",
       " 'shan',\n",
       " \"shan't\",\n",
       " 'shouldn',\n",
       " \"shouldn't\",\n",
       " 'wasn',\n",
       " \"wasn't\",\n",
       " 'weren',\n",
       " \"weren't\",\n",
       " 'won',\n",
       " \"won't\",\n",
       " 'wouldn',\n",
       " \"wouldn't\"]"
      ]
     },
     "execution_count": 40,
     "metadata": {},
     "output_type": "execute_result"
    }
   ],
   "source": [
    "stopwords.words('english')"
   ]
  },
  {
   "cell_type": "code",
   "execution_count": 39,
   "id": "5d7d21e3-0f6e-4a2d-a6c7-bce64e229fe1",
   "metadata": {
    "tags": []
   },
   "outputs": [
    {
     "name": "stdout",
     "output_type": "stream",
     "text": [
      "Barack\n",
      "Hussein\n",
      "Obama\n",
      "II\n",
      "[\n",
      "]\n",
      "(\n",
      "born\n",
      "August\n",
      "4\n",
      ",\n",
      "1961\n",
      ")\n",
      "American\n",
      "politician\n",
      "served\n",
      "44th\n",
      "president\n",
      "United\n",
      "States\n",
      "2009\n",
      "2017\n",
      ".\n",
      "A\n",
      "member\n",
      "Democratic\n",
      "Party\n",
      ",\n",
      "first\n",
      "African-American\n",
      "president\n",
      "U.S.\n",
      "history\n",
      ".\n",
      "Obama\n",
      "previously\n",
      "served\n",
      "U.S.\n",
      "senator\n",
      "representing\n",
      "Illinois\n",
      "2005\n",
      "2008\n",
      "Illinois\n",
      "state\n",
      "senator\n",
      "1997\n",
      "2004\n",
      ".\n",
      "Obama\n",
      "born\n",
      "Honolulu\n",
      ",\n",
      "Hawaii\n",
      ".\n",
      "He\n",
      "graduated\n",
      "Columbia\n",
      "University\n",
      "1983\n",
      "Bachelor\n",
      "Arts\n",
      "degree\n",
      "political\n",
      "science\n",
      "later\n",
      "worked\n",
      "community\n",
      "organizer\n",
      "Chicago\n",
      ".\n",
      "In\n",
      "1988\n",
      ",\n",
      "Obama\n",
      "enrolled\n",
      "Harvard\n",
      "Law\n",
      "School\n",
      ",\n",
      "first\n",
      "black\n",
      "president\n",
      "Harvard\n",
      "Law\n",
      "Review\n",
      ".\n",
      "He\n",
      "became\n",
      "civil\n",
      "rights\n",
      "attorney\n",
      "academic\n",
      ",\n",
      "teaching\n",
      "constitutional\n",
      "law\n",
      "University\n",
      "Chicago\n",
      "Law\n",
      "School\n",
      "1992\n",
      "2004\n",
      ".\n",
      "In\n",
      "1996\n",
      ",\n",
      "Obama\n",
      "elected\n",
      "represent\n",
      "13th\n",
      "district\n",
      "Illinois\n",
      "Senate\n",
      ",\n",
      "position\n",
      "held\n",
      "2004\n",
      ",\n",
      "successfully\n",
      "ran\n",
      "U.S.\n",
      "Senate\n",
      ".\n",
      "In\n",
      "2008\n",
      "presidential\n",
      "election\n",
      ",\n",
      "close\n",
      "primary\n",
      "campaign\n",
      "Hillary\n",
      "Clinton\n",
      ",\n",
      "nominated\n",
      "Democratic\n",
      "Party\n",
      "president\n",
      ".\n",
      "Obama\n",
      "selected\n",
      "Joe\n",
      "Biden\n",
      "running\n",
      "mate\n",
      "defeated\n",
      "Republican\n",
      "nominee\n",
      "John\n",
      "McCain\n",
      ".\n"
     ]
    }
   ],
   "source": [
    "for i in sentences:\n",
    "    words=nltk.word_tokenize(i)\n",
    "    for word in words:\n",
    "        if word not in set(stopwords.words('english')):\n",
    "            lemmatizer.lemmatize(word)\n",
    "            print(word)\n",
    "    "
   ]
  },
  {
   "cell_type": "code",
   "execution_count": 63,
   "id": "22a5eedc-35a8-443a-a229-a400e99e1220",
   "metadata": {
    "tags": []
   },
   "outputs": [],
   "source": [
    "import re\n",
    "corpus=[]\n",
    "for i in range(len(sentences)):\n",
    "    review=re.sub('[^a-zA-Z]',' ',sentences[i])\n",
    "    review=review.lower()\n",
    "    review=review.split()\n",
    "    review=[lemmatizer.lemmatize(word) for word in review if word not in set(stopwords.words('english'))]\n",
    "    review=' '.join(review)\n",
    "    corpus.append(review)"
   ]
  },
  {
   "cell_type": "code",
   "execution_count": 64,
   "id": "41150c59-f69c-4850-be51-083fc4510aa7",
   "metadata": {
    "tags": []
   },
   "outputs": [],
   "source": [
    "from sklearn.feature_extraction.text import CountVectorizer\n",
    "cv=CountVectorizer(binary=True)"
   ]
  },
  {
   "cell_type": "code",
   "execution_count": 65,
   "id": "dd5d64bd-3557-438b-b797-9a1ff20a3411",
   "metadata": {
    "tags": []
   },
   "outputs": [],
   "source": [
    "x=cv.fit_transform(corpus)"
   ]
  },
  {
   "cell_type": "code",
   "execution_count": 66,
   "id": "0431a5b8-de83-4ea3-b916-cbd8d8111bfb",
   "metadata": {
    "tags": []
   },
   "outputs": [
    {
     "data": {
      "text/plain": [
       "{'barack': 7,\n",
       " 'hussein': 35,\n",
       " 'obama': 47,\n",
       " 'ii': 36,\n",
       " 'born': 11,\n",
       " 'august': 5,\n",
       " 'american': 2,\n",
       " 'politician': 51,\n",
       " 'served': 69,\n",
       " 'th': 73,\n",
       " 'president': 53,\n",
       " 'united': 74,\n",
       " 'state': 70,\n",
       " 'member': 44,\n",
       " 'democratic': 22,\n",
       " 'party': 49,\n",
       " 'first': 27,\n",
       " 'african': 1,\n",
       " 'history': 33,\n",
       " 'previously': 55,\n",
       " 'senator': 68,\n",
       " 'representing': 59,\n",
       " 'illinois': 37,\n",
       " 'honolulu': 34,\n",
       " 'hawaii': 30,\n",
       " 'graduated': 28,\n",
       " 'columbia': 17,\n",
       " 'university': 75,\n",
       " 'bachelor': 6,\n",
       " 'art': 3,\n",
       " 'degree': 21,\n",
       " 'political': 50,\n",
       " 'science': 65,\n",
       " 'later': 40,\n",
       " 'worked': 76,\n",
       " 'community': 18,\n",
       " 'organizer': 48,\n",
       " 'chicago': 13,\n",
       " 'enrolled': 26,\n",
       " 'harvard': 29,\n",
       " 'law': 41,\n",
       " 'school': 64,\n",
       " 'black': 10,\n",
       " 'review': 61,\n",
       " 'became': 8,\n",
       " 'civil': 14,\n",
       " 'right': 62,\n",
       " 'attorney': 4,\n",
       " 'academic': 0,\n",
       " 'teaching': 72,\n",
       " 'constitutional': 19,\n",
       " 'elected': 24,\n",
       " 'represent': 58,\n",
       " 'district': 23,\n",
       " 'senate': 67,\n",
       " 'position': 52,\n",
       " 'held': 31,\n",
       " 'successfully': 71,\n",
       " 'ran': 57,\n",
       " 'presidential': 54,\n",
       " 'election': 25,\n",
       " 'close': 16,\n",
       " 'primary': 56,\n",
       " 'campaign': 12,\n",
       " 'hillary': 32,\n",
       " 'clinton': 15,\n",
       " 'nominated': 45,\n",
       " 'selected': 66,\n",
       " 'joe': 38,\n",
       " 'biden': 9,\n",
       " 'running': 63,\n",
       " 'mate': 42,\n",
       " 'defeated': 20,\n",
       " 'republican': 60,\n",
       " 'nominee': 46,\n",
       " 'john': 39,\n",
       " 'mccain': 43}"
      ]
     },
     "execution_count": 66,
     "metadata": {},
     "output_type": "execute_result"
    }
   ],
   "source": [
    "cv.vocabulary_"
   ]
  },
  {
   "cell_type": "code",
   "execution_count": 67,
   "id": "5b6ea70a-a2f8-4e7d-b440-ed34d37fd059",
   "metadata": {
    "tags": []
   },
   "outputs": [
    {
     "data": {
      "text/plain": [
       "'barack hussein obama ii born august american politician served th president united state'"
      ]
     },
     "execution_count": 67,
     "metadata": {},
     "output_type": "execute_result"
    }
   ],
   "source": [
    "corpus[0]"
   ]
  },
  {
   "cell_type": "code",
   "execution_count": 68,
   "id": "6b1c3b62-9916-4cec-9088-3bce098ee8ce",
   "metadata": {
    "tags": []
   },
   "outputs": [
    {
     "data": {
      "text/plain": [
       "array([[0, 0, 1, 0, 0, 1, 0, 1, 0, 0, 0, 1, 0, 0, 0, 0, 0, 0, 0, 0, 0, 0,\n",
       "        0, 0, 0, 0, 0, 0, 0, 0, 0, 0, 0, 0, 0, 1, 1, 0, 0, 0, 0, 0, 0, 0,\n",
       "        0, 0, 0, 1, 0, 0, 0, 1, 0, 1, 0, 0, 0, 0, 0, 0, 0, 0, 0, 0, 0, 0,\n",
       "        0, 0, 0, 1, 1, 0, 0, 1, 1, 0, 0]])"
      ]
     },
     "execution_count": 68,
     "metadata": {},
     "output_type": "execute_result"
    }
   ],
   "source": [
    "x[0].toarray()"
   ]
  }
 ],
 "metadata": {
  "kernelspec": {
   "display_name": "conda_python3",
   "language": "python",
   "name": "conda_python3"
  },
  "language_info": {
   "codemirror_mode": {
    "name": "ipython",
    "version": 3
   },
   "file_extension": ".py",
   "mimetype": "text/x-python",
   "name": "python",
   "nbconvert_exporter": "python",
   "pygments_lexer": "ipython3",
   "version": "3.10.15"
  }
 },
 "nbformat": 4,
 "nbformat_minor": 5
}
